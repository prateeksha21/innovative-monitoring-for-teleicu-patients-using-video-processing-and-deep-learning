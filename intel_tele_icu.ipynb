{
  "nbformat": 4,
  "nbformat_minor": 0,
  "metadata": {
    "colab": {
      "provenance": [],
      "authorship_tag": "ABX9TyPR3XhLfcJlzEQUD11tdF5L",
      "include_colab_link": true
    },
    "kernelspec": {
      "name": "python3",
      "display_name": "Python 3"
    },
    "language_info": {
      "name": "python"
    }
  },
  "cells": [
    {
      "cell_type": "markdown",
      "metadata": {
        "id": "view-in-github",
        "colab_type": "text"
      },
      "source": [
        "<a href=\"https://colab.research.google.com/github/prateeksha21/innovative-monitoring-for-teleicu-patients-using-video-processing-and-deep-learning/blob/main/intel_tele_icu.ipynb\" target=\"_parent\"><img src=\"https://colab.research.google.com/assets/colab-badge.svg\" alt=\"Open In Colab\"/></a>"
      ]
    },
    {
      "cell_type": "code",
      "execution_count": 1,
      "metadata": {
        "colab": {
          "base_uri": "https://localhost:8080/"
        },
        "id": "YUDL3Tov9F_u",
        "outputId": "934fdb57-41f8-4726-bead-63468e312bd5"
      },
      "outputs": [
        {
          "output_type": "stream",
          "name": "stdout",
          "text": [
            "Mounted at /content/gdrive\n"
          ]
        }
      ],
      "source": [
        "from google.colab import drive\n",
        "drive.mount('/content/gdrive')\n"
      ]
    },
    {
      "cell_type": "code",
      "source": [
        "!pip install opencv-python\n"
      ],
      "metadata": {
        "colab": {
          "base_uri": "https://localhost:8080/"
        },
        "id": "VWOiWA1U9YEo",
        "outputId": "179446a9-9311-4cf8-cfd2-089fd37863b1"
      },
      "execution_count": 2,
      "outputs": [
        {
          "output_type": "stream",
          "name": "stdout",
          "text": [
            "Requirement already satisfied: opencv-python in /usr/local/lib/python3.10/dist-packages (4.8.0.76)\n",
            "Requirement already satisfied: numpy>=1.21.2 in /usr/local/lib/python3.10/dist-packages (from opencv-python) (1.25.2)\n"
          ]
        }
      ]
    },
    {
      "cell_type": "code",
      "source": [
        "import cv2\n",
        "import os\n",
        "\n",
        "def extract_frames(video_file, frame_rate=2):\n",
        "    cap = cv2.VideoCapture(video_file)\n",
        "    frame_count = 0\n",
        "    video_name = os.path.splitext(os.path.basename(video_file))[0]\n",
        "    output_directory = f\"/content/gdrive/MyDrive/INTEL/{video_name}_frames\"\n",
        "    os.makedirs(output_directory, exist_ok=True)\n",
        "\n",
        "    while True:\n",
        "        ret, frame = cap.read()\n",
        "        if not ret:\n",
        "            break\n",
        "\n",
        "        frame_count += 1\n",
        "        if frame_count % int(cap.get(cv2.CAP_PROP_FPS) / frame_rate) == 0:\n",
        "            output_file = f\"{output_directory}/frame_{frame_count}.jpg\"\n",
        "            cv2.imwrite(output_file, frame)\n",
        "            print(f\"Frame {frame_count} has been extracted and saved as {output_file}\")\n",
        "\n",
        "    cap.release()\n",
        "    cv2.destroyAllWindows()\n",
        "\n",
        "# Use the path to your uploaded video file\n",
        "video_file = '/content/gdrive/MyDrive/INTEL/Teleicu.mp4'\n",
        "extract_frames(video_file)\n"
      ],
      "metadata": {
        "id": "L2-nqYNI-R1G"
      },
      "execution_count": 3,
      "outputs": []
    },
    {
      "cell_type": "code",
      "source": [
        "from google.colab import drive\n",
        "drive.mount('/content/gdrive')\n"
      ],
      "metadata": {
        "colab": {
          "base_uri": "https://localhost:8080/"
        },
        "id": "x4Aoa0ue-xWa",
        "outputId": "7dc60aac-cbc0-40b0-ebce-735de982c609"
      },
      "execution_count": 4,
      "outputs": [
        {
          "output_type": "stream",
          "name": "stdout",
          "text": [
            "Drive already mounted at /content/gdrive; to attempt to forcibly remount, call drive.mount(\"/content/gdrive\", force_remount=True).\n"
          ]
        }
      ]
    },
    {
      "cell_type": "code",
      "source": [
        "!pip install pytube opencv-python tensorflow pandas matplotlib\n"
      ],
      "metadata": {
        "colab": {
          "base_uri": "https://localhost:8080/"
        },
        "id": "f-yAstF5-2Qi",
        "outputId": "1c6b4c5f-2568-4ccf-b36b-5221b341dff0"
      },
      "execution_count": 5,
      "outputs": [
        {
          "output_type": "stream",
          "name": "stdout",
          "text": [
            "Collecting pytube\n",
            "  Downloading pytube-15.0.0-py3-none-any.whl (57 kB)\n",
            "\u001b[2K     \u001b[90m━━━━━━━━━━━━━━━━━━━━━━━━━━━━━━━━━━━━━━━━\u001b[0m \u001b[32m57.6/57.6 kB\u001b[0m \u001b[31m1.8 MB/s\u001b[0m eta \u001b[36m0:00:00\u001b[0m\n",
            "\u001b[?25hRequirement already satisfied: opencv-python in /usr/local/lib/python3.10/dist-packages (4.8.0.76)\n",
            "Requirement already satisfied: tensorflow in /usr/local/lib/python3.10/dist-packages (2.15.0)\n",
            "Requirement already satisfied: pandas in /usr/local/lib/python3.10/dist-packages (2.0.3)\n",
            "Requirement already satisfied: matplotlib in /usr/local/lib/python3.10/dist-packages (3.7.1)\n",
            "Requirement already satisfied: numpy>=1.21.2 in /usr/local/lib/python3.10/dist-packages (from opencv-python) (1.25.2)\n",
            "Requirement already satisfied: absl-py>=1.0.0 in /usr/local/lib/python3.10/dist-packages (from tensorflow) (1.4.0)\n",
            "Requirement already satisfied: astunparse>=1.6.0 in /usr/local/lib/python3.10/dist-packages (from tensorflow) (1.6.3)\n",
            "Requirement already satisfied: flatbuffers>=23.5.26 in /usr/local/lib/python3.10/dist-packages (from tensorflow) (24.3.25)\n",
            "Requirement already satisfied: gast!=0.5.0,!=0.5.1,!=0.5.2,>=0.2.1 in /usr/local/lib/python3.10/dist-packages (from tensorflow) (0.6.0)\n",
            "Requirement already satisfied: google-pasta>=0.1.1 in /usr/local/lib/python3.10/dist-packages (from tensorflow) (0.2.0)\n",
            "Requirement already satisfied: h5py>=2.9.0 in /usr/local/lib/python3.10/dist-packages (from tensorflow) (3.9.0)\n",
            "Requirement already satisfied: libclang>=13.0.0 in /usr/local/lib/python3.10/dist-packages (from tensorflow) (18.1.1)\n",
            "Requirement already satisfied: ml-dtypes~=0.2.0 in /usr/local/lib/python3.10/dist-packages (from tensorflow) (0.2.0)\n",
            "Requirement already satisfied: opt-einsum>=2.3.2 in /usr/local/lib/python3.10/dist-packages (from tensorflow) (3.3.0)\n",
            "Requirement already satisfied: packaging in /usr/local/lib/python3.10/dist-packages (from tensorflow) (24.1)\n",
            "Requirement already satisfied: protobuf!=4.21.0,!=4.21.1,!=4.21.2,!=4.21.3,!=4.21.4,!=4.21.5,<5.0.0dev,>=3.20.3 in /usr/local/lib/python3.10/dist-packages (from tensorflow) (3.20.3)\n",
            "Requirement already satisfied: setuptools in /usr/local/lib/python3.10/dist-packages (from tensorflow) (67.7.2)\n",
            "Requirement already satisfied: six>=1.12.0 in /usr/local/lib/python3.10/dist-packages (from tensorflow) (1.16.0)\n",
            "Requirement already satisfied: termcolor>=1.1.0 in /usr/local/lib/python3.10/dist-packages (from tensorflow) (2.4.0)\n",
            "Requirement already satisfied: typing-extensions>=3.6.6 in /usr/local/lib/python3.10/dist-packages (from tensorflow) (4.12.2)\n",
            "Requirement already satisfied: wrapt<1.15,>=1.11.0 in /usr/local/lib/python3.10/dist-packages (from tensorflow) (1.14.1)\n",
            "Requirement already satisfied: tensorflow-io-gcs-filesystem>=0.23.1 in /usr/local/lib/python3.10/dist-packages (from tensorflow) (0.37.0)\n",
            "Requirement already satisfied: grpcio<2.0,>=1.24.3 in /usr/local/lib/python3.10/dist-packages (from tensorflow) (1.64.1)\n",
            "Requirement already satisfied: tensorboard<2.16,>=2.15 in /usr/local/lib/python3.10/dist-packages (from tensorflow) (2.15.2)\n",
            "Requirement already satisfied: tensorflow-estimator<2.16,>=2.15.0 in /usr/local/lib/python3.10/dist-packages (from tensorflow) (2.15.0)\n",
            "Requirement already satisfied: keras<2.16,>=2.15.0 in /usr/local/lib/python3.10/dist-packages (from tensorflow) (2.15.0)\n",
            "Requirement already satisfied: python-dateutil>=2.8.2 in /usr/local/lib/python3.10/dist-packages (from pandas) (2.8.2)\n",
            "Requirement already satisfied: pytz>=2020.1 in /usr/local/lib/python3.10/dist-packages (from pandas) (2023.4)\n",
            "Requirement already satisfied: tzdata>=2022.1 in /usr/local/lib/python3.10/dist-packages (from pandas) (2024.1)\n",
            "Requirement already satisfied: contourpy>=1.0.1 in /usr/local/lib/python3.10/dist-packages (from matplotlib) (1.2.1)\n",
            "Requirement already satisfied: cycler>=0.10 in /usr/local/lib/python3.10/dist-packages (from matplotlib) (0.12.1)\n",
            "Requirement already satisfied: fonttools>=4.22.0 in /usr/local/lib/python3.10/dist-packages (from matplotlib) (4.53.0)\n",
            "Requirement already satisfied: kiwisolver>=1.0.1 in /usr/local/lib/python3.10/dist-packages (from matplotlib) (1.4.5)\n",
            "Requirement already satisfied: pillow>=6.2.0 in /usr/local/lib/python3.10/dist-packages (from matplotlib) (9.4.0)\n",
            "Requirement already satisfied: pyparsing>=2.3.1 in /usr/local/lib/python3.10/dist-packages (from matplotlib) (3.1.2)\n",
            "Requirement already satisfied: wheel<1.0,>=0.23.0 in /usr/local/lib/python3.10/dist-packages (from astunparse>=1.6.0->tensorflow) (0.43.0)\n",
            "Requirement already satisfied: google-auth<3,>=1.6.3 in /usr/local/lib/python3.10/dist-packages (from tensorboard<2.16,>=2.15->tensorflow) (2.27.0)\n",
            "Requirement already satisfied: google-auth-oauthlib<2,>=0.5 in /usr/local/lib/python3.10/dist-packages (from tensorboard<2.16,>=2.15->tensorflow) (1.2.0)\n",
            "Requirement already satisfied: markdown>=2.6.8 in /usr/local/lib/python3.10/dist-packages (from tensorboard<2.16,>=2.15->tensorflow) (3.6)\n",
            "Requirement already satisfied: requests<3,>=2.21.0 in /usr/local/lib/python3.10/dist-packages (from tensorboard<2.16,>=2.15->tensorflow) (2.31.0)\n",
            "Requirement already satisfied: tensorboard-data-server<0.8.0,>=0.7.0 in /usr/local/lib/python3.10/dist-packages (from tensorboard<2.16,>=2.15->tensorflow) (0.7.2)\n",
            "Requirement already satisfied: werkzeug>=1.0.1 in /usr/local/lib/python3.10/dist-packages (from tensorboard<2.16,>=2.15->tensorflow) (3.0.3)\n",
            "Requirement already satisfied: cachetools<6.0,>=2.0.0 in /usr/local/lib/python3.10/dist-packages (from google-auth<3,>=1.6.3->tensorboard<2.16,>=2.15->tensorflow) (5.3.3)\n",
            "Requirement already satisfied: pyasn1-modules>=0.2.1 in /usr/local/lib/python3.10/dist-packages (from google-auth<3,>=1.6.3->tensorboard<2.16,>=2.15->tensorflow) (0.4.0)\n",
            "Requirement already satisfied: rsa<5,>=3.1.4 in /usr/local/lib/python3.10/dist-packages (from google-auth<3,>=1.6.3->tensorboard<2.16,>=2.15->tensorflow) (4.9)\n",
            "Requirement already satisfied: requests-oauthlib>=0.7.0 in /usr/local/lib/python3.10/dist-packages (from google-auth-oauthlib<2,>=0.5->tensorboard<2.16,>=2.15->tensorflow) (1.3.1)\n",
            "Requirement already satisfied: charset-normalizer<4,>=2 in /usr/local/lib/python3.10/dist-packages (from requests<3,>=2.21.0->tensorboard<2.16,>=2.15->tensorflow) (3.3.2)\n",
            "Requirement already satisfied: idna<4,>=2.5 in /usr/local/lib/python3.10/dist-packages (from requests<3,>=2.21.0->tensorboard<2.16,>=2.15->tensorflow) (3.7)\n",
            "Requirement already satisfied: urllib3<3,>=1.21.1 in /usr/local/lib/python3.10/dist-packages (from requests<3,>=2.21.0->tensorboard<2.16,>=2.15->tensorflow) (2.0.7)\n",
            "Requirement already satisfied: certifi>=2017.4.17 in /usr/local/lib/python3.10/dist-packages (from requests<3,>=2.21.0->tensorboard<2.16,>=2.15->tensorflow) (2024.6.2)\n",
            "Requirement already satisfied: MarkupSafe>=2.1.1 in /usr/local/lib/python3.10/dist-packages (from werkzeug>=1.0.1->tensorboard<2.16,>=2.15->tensorflow) (2.1.5)\n",
            "Requirement already satisfied: pyasn1<0.7.0,>=0.4.6 in /usr/local/lib/python3.10/dist-packages (from pyasn1-modules>=0.2.1->google-auth<3,>=1.6.3->tensorboard<2.16,>=2.15->tensorflow) (0.6.0)\n",
            "Requirement already satisfied: oauthlib>=3.0.0 in /usr/local/lib/python3.10/dist-packages (from requests-oauthlib>=0.7.0->google-auth-oauthlib<2,>=0.5->tensorboard<2.16,>=2.15->tensorflow) (3.2.2)\n",
            "Installing collected packages: pytube\n",
            "Successfully installed pytube-15.0.0\n"
          ]
        }
      ]
    },
    {
      "cell_type": "code",
      "source": [
        "import cv2\n",
        "import os\n",
        "\n",
        "def extract_frames(video_file, frame_rate=2):\n",
        "    cap = cv2.VideoCapture(video_file)\n",
        "    frame_count = 0\n",
        "    video_name = os.path.splitext(os.path.basename(video_file))[0]\n",
        "    output_directory = f\"/content/gdrive/MyDrive/INTEL/{video_name}_frames\"\n",
        "    os.makedirs(output_directory, exist_ok=True)\n",
        "\n",
        "    while True:\n",
        "        ret, frame = cap.read()\n",
        "        if not ret:\n",
        "            break\n",
        "\n",
        "        frame_count += 1\n",
        "        if frame_count % int(cap.get(cv2.CAP_PROP_FPS) / frame_rate) == 0:\n",
        "            output_file = f\"{output_directory}/frame_{frame_count}.jpg\"\n",
        "            cv2.imwrite(output_file, frame)\n",
        "            print(f\"Frame {frame_count} has been extracted and saved as {output_file}\")\n",
        "\n",
        "    cap.release()\n",
        "    cv2.destroyAllWindows()\n",
        "\n",
        "# Use the path to your uploaded video file\n",
        "video_file = '/content/gdrive/MyDrive/INTEL/Teleicu.mp4'\n",
        "extract_frames(video_file)\n"
      ],
      "metadata": {
        "colab": {
          "base_uri": "https://localhost:8080/"
        },
        "id": "5_yONnqC_C1b",
        "outputId": "f849e1b1-889f-49e0-b4c4-155edc04c340"
      },
      "execution_count": 9,
      "outputs": [
        {
          "output_type": "stream",
          "name": "stdout",
          "text": [
            "Frame 29 has been extracted and saved as /content/gdrive/MyDrive/INTEL/Teleicu_frames/frame_29.jpg\n",
            "Frame 58 has been extracted and saved as /content/gdrive/MyDrive/INTEL/Teleicu_frames/frame_58.jpg\n",
            "Frame 87 has been extracted and saved as /content/gdrive/MyDrive/INTEL/Teleicu_frames/frame_87.jpg\n",
            "Frame 116 has been extracted and saved as /content/gdrive/MyDrive/INTEL/Teleicu_frames/frame_116.jpg\n",
            "Frame 145 has been extracted and saved as /content/gdrive/MyDrive/INTEL/Teleicu_frames/frame_145.jpg\n",
            "Frame 174 has been extracted and saved as /content/gdrive/MyDrive/INTEL/Teleicu_frames/frame_174.jpg\n",
            "Frame 203 has been extracted and saved as /content/gdrive/MyDrive/INTEL/Teleicu_frames/frame_203.jpg\n",
            "Frame 232 has been extracted and saved as /content/gdrive/MyDrive/INTEL/Teleicu_frames/frame_232.jpg\n",
            "Frame 261 has been extracted and saved as /content/gdrive/MyDrive/INTEL/Teleicu_frames/frame_261.jpg\n",
            "Frame 290 has been extracted and saved as /content/gdrive/MyDrive/INTEL/Teleicu_frames/frame_290.jpg\n",
            "Frame 319 has been extracted and saved as /content/gdrive/MyDrive/INTEL/Teleicu_frames/frame_319.jpg\n",
            "Frame 348 has been extracted and saved as /content/gdrive/MyDrive/INTEL/Teleicu_frames/frame_348.jpg\n",
            "Frame 377 has been extracted and saved as /content/gdrive/MyDrive/INTEL/Teleicu_frames/frame_377.jpg\n"
          ]
        }
      ]
    },
    {
      "cell_type": "code",
      "source": [
        "  import tensorflow as tf\n",
        "  from tensorflow.keras.preprocessing.image import ImageDataGenerator\n",
        "  from tensorflow.keras.applications import MobileNetV2\n",
        "  from tensorflow.keras.layers import Dense, GlobalAveragePooling2D\n",
        "  from tensorflow.keras.models import Model\n",
        "\n",
        "  # Define directories\n",
        "  train_dir = '/content/gdrive/MyDrive/INTEL/train'\n",
        "  val_dir = '/content/gdrive/MyDrive/INTEL/val'\n",
        "\n",
        "  # Data generators\n",
        "  train_datagen = ImageDataGenerator(rescale=1./255)\n",
        "  val_datagen = ImageDataGenerator(rescale=1./255)\n",
        "\n",
        "  train_generator = train_datagen.flow_from_directory(train_dir, target_size=(224, 224), batch_size=32, class_mode='binary')\n",
        "  val_generator = val_datagen.flow_from_directory(val_dir, target_size=(224, 224), batch_size=32, class_mode='binary')\n",
        "\n",
        "  # Load pre-trained MobileNetV2\n",
        "  base_model = MobileNetV2(weights='imagenet', include_top=False, input_shape=(224, 224, 3))\n",
        "\n",
        "  # Add custom layers\n",
        "  x = base_model.output\n",
        "  x = GlobalAveragePooling2D()(x)\n",
        "  x = Dense(1024, activation='relu')(x)\n",
        "  predictions = Dense(1, activation='sigmoid')(x)\n",
        "\n",
        "  # Compile the model\n",
        "  model = Model(inputs=base_model.input, outputs=predictions)\n",
        "  for layer in base_model.layers:\n",
        "      layer.trainable = False\n",
        "\n",
        "  model.compile(optimizer='adam', loss='binary_crossentropy', metrics=['accuracy'])\n",
        "\n",
        "  # Train the model\n",
        "  model.fit(train_generator, epochs=10, validation_data=val_generator)\n",
        "\n",
        "  # Save the model\n",
        "  model.save('/content/gdrive/MyDrive/INTEL/model.h5')\n"
      ],
      "metadata": {
        "colab": {
          "base_uri": "https://localhost:8080/"
        },
        "id": "ErnIvWU9F2YH",
        "outputId": "80bf5bc0-b775-41ac-ed18-832cfe00f981"
      },
      "execution_count": 12,
      "outputs": [
        {
          "output_type": "stream",
          "name": "stdout",
          "text": [
            "Found 29 images belonging to 3 classes.\n",
            "Found 29 images belonging to 3 classes.\n",
            "Downloading data from https://storage.googleapis.com/tensorflow/keras-applications/mobilenet_v2/mobilenet_v2_weights_tf_dim_ordering_tf_kernels_1.0_224_no_top.h5\n",
            "9406464/9406464 [==============================] - 0s 0us/step\n",
            "Epoch 1/10\n",
            "1/1 [==============================] - 15s 15s/step - loss: 1.4501 - accuracy: 0.1034 - val_loss: -2.6870 - val_accuracy: 0.4483\n",
            "Epoch 2/10\n",
            "1/1 [==============================] - 4s 4s/step - loss: -2.6870 - accuracy: 0.4483 - val_loss: -5.1531 - val_accuracy: 0.4483\n",
            "Epoch 3/10\n",
            "1/1 [==============================] - 13s 13s/step - loss: -5.1531 - accuracy: 0.4483 - val_loss: -7.5195 - val_accuracy: 0.4483\n",
            "Epoch 4/10\n",
            "1/1 [==============================] - 5s 5s/step - loss: -7.5195 - accuracy: 0.4483 - val_loss: -9.9255 - val_accuracy: 0.4483\n",
            "Epoch 5/10\n",
            "1/1 [==============================] - 4s 4s/step - loss: -9.9255 - accuracy: 0.4483 - val_loss: -12.4119 - val_accuracy: 0.4483\n",
            "Epoch 6/10\n",
            "1/1 [==============================] - 7s 7s/step - loss: -12.4119 - accuracy: 0.4483 - val_loss: -15.0084 - val_accuracy: 0.4483\n",
            "Epoch 7/10\n",
            "1/1 [==============================] - 4s 4s/step - loss: -15.0084 - accuracy: 0.4483 - val_loss: -17.7324 - val_accuracy: 0.4483\n",
            "Epoch 8/10\n",
            "1/1 [==============================] - 4s 4s/step - loss: -17.7324 - accuracy: 0.4483 - val_loss: -20.5905 - val_accuracy: 0.4483\n",
            "Epoch 9/10\n",
            "1/1 [==============================] - 5s 5s/step - loss: -20.5905 - accuracy: 0.4483 - val_loss: -23.5868 - val_accuracy: 0.4483\n",
            "Epoch 10/10\n",
            "1/1 [==============================] - 4s 4s/step - loss: -23.5868 - accuracy: 0.4483 - val_loss: -26.7252 - val_accuracy: 0.4483\n"
          ]
        },
        {
          "output_type": "stream",
          "name": "stderr",
          "text": [
            "/usr/local/lib/python3.10/dist-packages/keras/src/engine/training.py:3103: UserWarning: You are saving your model as an HDF5 file via `model.save()`. This file format is considered legacy. We recommend using instead the native Keras format, e.g. `model.save('my_model.keras')`.\n",
            "  saving_api.save_model(\n"
          ]
        }
      ]
    },
    {
      "cell_type": "code",
      "source": [],
      "metadata": {
        "id": "XQ6iRHVbPMnf"
      },
      "execution_count": null,
      "outputs": []
    },
    {
      "cell_type": "code",
      "source": [
        "pip install opencv-python opencv-python-headless numpy tensorflow\n"
      ],
      "metadata": {
        "id": "AFlLdt4xPMJW"
      },
      "execution_count": null,
      "outputs": []
    }
  ]
}